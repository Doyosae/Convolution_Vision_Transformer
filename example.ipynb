{
 "metadata": {
  "language_info": {
   "codemirror_mode": {
    "name": "ipython",
    "version": 3
   },
   "file_extension": ".py",
   "mimetype": "text/x-python",
   "name": "python",
   "nbconvert_exporter": "python",
   "pygments_lexer": "ipython3",
   "version": "3.8.5"
  },
  "orig_nbformat": 4,
  "kernelspec": {
   "name": "python3",
   "display_name": "Python 3.8.5 64-bit ('Python38')"
  },
  "interpreter": {
   "hash": "ea0e2d8fd73e440997c046f126b497ce4faf12264ffe3dcb55b8dc2bc1cab34a"
  }
 },
 "nbformat": 4,
 "nbformat_minor": 2,
 "cells": [
  {
   "cell_type": "code",
   "execution_count": 1,
   "metadata": {},
   "outputs": [],
   "source": [
    "import torch\n",
    "import torch.nn as nn\n",
    "import torch.nn.functional as F\n",
    "from model_layer import *"
   ]
  },
  {
   "source": [
    "# 리니어 임베딩과 CvT의 예시"
   ],
   "cell_type": "markdown",
   "metadata": {}
  },
  {
   "cell_type": "code",
   "execution_count": 2,
   "metadata": {},
   "outputs": [
    {
     "output_type": "stream",
     "name": "stdout",
     "text": [
      "torch.Size([8, 3, 16, 16])\ntorch.Size([8, 3, 4, 4])\n"
     ]
    }
   ],
   "source": [
    "tensor = torch.ones([8, 3, 16, 16])\n",
    "print(tensor.shape)\n",
    "\n",
    "layer   = LineTokenConvTransformer((16, 16), (4, 4), 3, 3)\n",
    "outputs = layer(tensor)\n",
    "\n",
    "print(outputs.shape)"
   ]
  },
  {
   "source": [
    "# 컨볼루션 임베딩와 CvT의 예시"
   ],
   "cell_type": "markdown",
   "metadata": {}
  },
  {
   "cell_type": "code",
   "execution_count": 3,
   "metadata": {},
   "outputs": [
    {
     "output_type": "stream",
     "name": "stdout",
     "text": [
      "torch.Size([8, 3, 16, 16])\ntorch.Size([8, 3, 4, 4])\n"
     ]
    }
   ],
   "source": [
    "tensor = torch.ones([8, 3, 16, 16])\n",
    "print(tensor.shape)\n",
    "\n",
    "layer   = ConvTokenConvTransformer((16, 16), (4, 4), 3, 3)\n",
    "outputs = layer(tensor)\n",
    "\n",
    "print(outputs.shape)"
   ]
  },
  {
   "source": [
    "# Self-CvT 예시"
   ],
   "cell_type": "markdown",
   "metadata": {}
  },
  {
   "cell_type": "code",
   "execution_count": 4,
   "metadata": {},
   "outputs": [
    {
     "output_type": "stream",
     "name": "stdout",
     "text": [
      "torch.Size([8, 3, 16, 16])\ntorch.Size([8, 3, 16, 16])\n"
     ]
    }
   ],
   "source": [
    "tensor = torch.ones([8, 3, 16, 16])\n",
    "print(tensor.shape)\n",
    "\n",
    "layer   = SelfConvTransfomer((16, 16), 3, 2)\n",
    "outputs = layer(tensor)\n",
    "\n",
    "print(outputs.shape)"
   ]
  },
  {
   "source": [
    "# Cross-CvT 예시"
   ],
   "cell_type": "markdown",
   "metadata": {}
  },
  {
   "cell_type": "code",
   "execution_count": 5,
   "metadata": {},
   "outputs": [
    {
     "output_type": "stream",
     "name": "stdout",
     "text": [
      "torch.Size([8, 3, 16, 16]) torch.Size([8, 3, 16, 16])\ntorch.Size([8, 3, 16, 16])\n"
     ]
    }
   ],
   "source": [
    "tensor1 = torch.ones([8, 3, 16, 16])\n",
    "tensor2 = torch.ones([8, 3, 16, 16])\n",
    "print(tensor1.shape, tensor2.shape)\n",
    "\n",
    "layer   = CrossConvTransformer((16, 16), 3, 1)\n",
    "outputs = layer(tensor1, tensor2)\n",
    "\n",
    "print(outputs.shape)"
   ]
  }
 ]
}