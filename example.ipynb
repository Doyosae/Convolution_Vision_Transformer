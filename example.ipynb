{
 "metadata": {
  "language_info": {
   "codemirror_mode": {
    "name": "ipython",
    "version": 3
   },
   "file_extension": ".py",
   "mimetype": "text/x-python",
   "name": "python",
   "nbconvert_exporter": "python",
   "pygments_lexer": "ipython3",
   "version": "3.8.5"
  },
  "orig_nbformat": 4,
  "kernelspec": {
   "name": "python3",
   "display_name": "Python 3.8.5 64-bit"
  },
  "interpreter": {
   "hash": "ea0e2d8fd73e440997c046f126b497ce4faf12264ffe3dcb55b8dc2bc1cab34a"
  }
 },
 "nbformat": 4,
 "nbformat_minor": 2,
 "cells": [
  {
   "cell_type": "code",
   "execution_count": 1,
   "source": [
    "import torch\r\n",
    "import torch.nn as nn\r\n",
    "import torch.nn.functional as F\r\n",
    "from model_layer import *"
   ],
   "outputs": [],
   "metadata": {}
  },
  {
   "cell_type": "markdown",
   "source": [
    "# 리니어 임베딩과 CvT의 예시"
   ],
   "metadata": {}
  },
  {
   "cell_type": "code",
   "execution_count": 2,
   "source": [
    "tensor = torch.ones([8, 3, 16, 16])\r\n",
    "print(tensor.shape)\r\n",
    "\r\n",
    "layer   = LineTokenConvTransformer((16, 16), (4, 4), 3, 3)\r\n",
    "outputs = layer(tensor)\r\n",
    "\r\n",
    "print(outputs.shape)"
   ],
   "outputs": [
    {
     "output_type": "stream",
     "name": "stdout",
     "text": [
      "torch.Size([8, 3, 16, 16])\n",
      "torch.Size([8, 3, 4, 4])\n"
     ]
    }
   ],
   "metadata": {}
  },
  {
   "cell_type": "markdown",
   "source": [
    "# 컨볼루션 임베딩와 CvT의 예시"
   ],
   "metadata": {}
  },
  {
   "cell_type": "code",
   "execution_count": 3,
   "source": [
    "tensor = torch.ones([8, 3, 16, 16])\r\n",
    "print(tensor.shape)\r\n",
    "\r\n",
    "layer   = ConvTokenConvTransformer((16, 16), (4, 4), 3, 3)\r\n",
    "outputs = layer(tensor)\r\n",
    "\r\n",
    "print(outputs.shape)"
   ],
   "outputs": [
    {
     "output_type": "stream",
     "name": "stdout",
     "text": [
      "torch.Size([8, 3, 16, 16])\n",
      "torch.Size([8, 3, 4, 4])\n"
     ]
    }
   ],
   "metadata": {}
  },
  {
   "cell_type": "markdown",
   "source": [
    "# Self-CvT 예시"
   ],
   "metadata": {}
  },
  {
   "cell_type": "code",
   "execution_count": 4,
   "source": [
    "tensor = torch.ones([8, 3, 16, 16])\r\n",
    "print(tensor.shape)\r\n",
    "\r\n",
    "layer   = SelfConvTransfomer((16, 16), 3, 2)\r\n",
    "outputs = layer(tensor)\r\n",
    "\r\n",
    "print(outputs.shape)"
   ],
   "outputs": [
    {
     "output_type": "stream",
     "name": "stdout",
     "text": [
      "torch.Size([8, 3, 16, 16])\n",
      "torch.Size([8, 3, 16, 16])\n"
     ]
    }
   ],
   "metadata": {}
  },
  {
   "cell_type": "markdown",
   "source": [
    "# Cross-CvT 예시"
   ],
   "metadata": {}
  },
  {
   "cell_type": "code",
   "execution_count": 5,
   "source": [
    "tensor1 = torch.ones([8, 3, 16, 16])\r\n",
    "tensor2 = torch.ones([8, 3, 16, 16])\r\n",
    "print(tensor1.shape, tensor2.shape)\r\n",
    "\r\n",
    "layer   = CrossConvTransformer((16, 16), 3, 1)\r\n",
    "outputs = layer(tensor1, tensor2)\r\n",
    "\r\n",
    "print(outputs.shape)"
   ],
   "outputs": [
    {
     "output_type": "stream",
     "name": "stdout",
     "text": [
      "torch.Size([8, 3, 16, 16]) torch.Size([8, 3, 16, 16])\n",
      "torch.Size([8, 3, 16, 16])\n"
     ]
    }
   ],
   "metadata": {}
  }
 ]
}